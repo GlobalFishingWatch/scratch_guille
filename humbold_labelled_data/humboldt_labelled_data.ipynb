{
 "cells": [
  {
   "cell_type": "code",
   "execution_count": 1,
   "metadata": {},
   "outputs": [],
   "source": [
    "import pandas as pd\n",
    "import numpy as np"
   ]
  },
  {
   "cell_type": "code",
   "execution_count": 2,
   "metadata": {},
   "outputs": [],
   "source": [
    "#Loading data\n",
    "datDir=\"./data\"\n",
    "pings = pd.read_hdf(f\"{datDir}/general_fishing_training_v20241101.hdf5\")\n",
    "labels=pd.read_csv(f\"{datDir}/general_fishing_labels.csv\") \n",
    "#identity column to string\n",
    "labels[\"identity\"]=labels[\"identity\"].astype(str)\n",
    "pings[\"identity\"]=labels[\"identity\"].astype(str)"
   ]
  },
  {
   "cell_type": "code",
   "execution_count": 3,
   "metadata": {},
   "outputs": [
    {
     "name": "stdout",
     "output_type": "stream",
     "text": [
      "(11506080, 9)\n",
      "(517030, 9)\n",
      "(517030, 5)\n"
     ]
    }
   ],
   "source": [
    "#Subset pings to only identities in labels\n",
    "idx = pings[\"identity\"].isin(labels[\"identity\"])\n",
    "pings2 = pings[idx]\n",
    "print(pings.shape)\n",
    "print(pings2.shape)\n",
    "print(labels.shape)"
   ]
  },
  {
   "cell_type": "code",
   "execution_count": 4,
   "metadata": {},
   "outputs": [
    {
     "name": "stdout",
     "output_type": "stream",
     "text": [
      "identity                     204206740\n",
      "start        2015-06-07 10:51:35+00:00\n",
      "end          2015-06-07 11:27:06+00:00\n",
      "label                          fishing\n",
      "annotator        pybossa_project_3.csv\n",
      "Name: 0, dtype: object\n",
      "Empty DataFrame\n",
      "Columns: [ndx, identity, timestamp, lat, lon, distance_from_shore_km, speed_knots, course_degrees, elevation_m]\n",
      "Index: []\n"
     ]
    }
   ],
   "source": [
    "test=labels.iloc[0]\n",
    "temp = pings2[(pings2['timestamp'] >= test['start']) & (pings2['timestamp'] <= test['end']) & (pings2['identity'] == test['identity'])]\n",
    "print(test)\n",
    "print(temp) # Empty data?"
   ]
  },
  {
   "cell_type": "code",
   "execution_count": 5,
   "metadata": {},
   "outputs": [
    {
     "name": "stdout",
     "output_type": "stream",
     "text": [
      "[datetime.date(2018, 6, 28)]\n"
     ]
    }
   ],
   "source": [
    "test2=pings[(pings['identity'] == test['identity']) & (pings['timestamp'] > test['start'])]\n",
    "unique_dates = test2['timestamp'].dt.date.unique()\n",
    "print(unique_dates)\n"
   ]
  },
  {
   "cell_type": "code",
   "execution_count": 6,
   "metadata": {},
   "outputs": [],
   "source": [
    "# Initialize an empty DataFrame to store the filtered results\n",
    "#filtered_merged_df = pd.DataFrame()\n",
    "\n",
    "# Loop through each row in the labels DataFrame\n",
    "#for _, row in labels.iterrows():\n",
    "#    print(f\"Processing row: {row.name}\")\n",
    "#    # Filter rows where ping timestamp is between start and end for the current label row\n",
    "#    temp_df = pings2[(pings2['timestamp'] >= row['start']) & (pings2['timestamp'] <= row['end']) & (pings2['identity'] == row['identity'])]\n",
    "#    # Append the filtered rows to the result DataFrame\n",
    "#    filtered_merged_df = pd.concat([filtered_merged_df, temp_df])\n",
    "\n",
    "#print(filtered_merged_df.shape)"
   ]
  }
 ],
 "metadata": {
  "kernelspec": {
   "display_name": "radenv",
   "language": "python",
   "name": "python3"
  },
  "language_info": {
   "codemirror_mode": {
    "name": "ipython",
    "version": 3
   },
   "file_extension": ".py",
   "mimetype": "text/x-python",
   "name": "python",
   "nbconvert_exporter": "python",
   "pygments_lexer": "ipython3",
   "version": "3.11.6"
  }
 },
 "nbformat": 4,
 "nbformat_minor": 2
}
