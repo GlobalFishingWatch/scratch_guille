{
 "cells": [
  {
   "cell_type": "code",
   "execution_count": 1,
   "metadata": {},
   "outputs": [],
   "source": [
    "import pandas as pd\n",
    "import numpy as np"
   ]
  },
  {
   "cell_type": "code",
   "execution_count": 8,
   "metadata": {},
   "outputs": [
    {
     "data": {
      "text/plain": [
       "(11506080, 9)"
      ]
     },
     "execution_count": 8,
     "metadata": {},
     "output_type": "execute_result"
    }
   ],
   "source": [
    "test=pd.read_hdf(\"general_fishing_training_v20241101.hdf5\")\n",
    "test.shape\n"
   ]
  },
  {
   "cell_type": "code",
   "execution_count": 7,
   "metadata": {},
   "outputs": [
    {
     "name": "stdout",
     "output_type": "stream",
     "text": [
      "[0.31167276 0.39911073 0.81271062 0.90457158 0.61534371 0.29261968\n",
      " 0.21488445 0.78077194 0.62065951 0.81169847]\n"
     ]
    }
   ],
   "source": [
    "random_numbers = np.random.rand(10)\n",
    "print(random_numbers)"
   ]
  },
  {
   "cell_type": "code",
   "execution_count": 9,
   "metadata": {},
   "outputs": [
    {
     "name": "stdout",
     "output_type": "stream",
     "text": [
      "<class 'pandas.core.frame.DataFrame'>\n",
      "Index: 11506080 entries, 0 to 11506079\n",
      "Data columns (total 9 columns):\n",
      " #   Column                  Dtype              \n",
      "---  ------                  -----              \n",
      " 0   ndx                     int64              \n",
      " 1   identity                object             \n",
      " 2   timestamp               datetime64[ns, UTC]\n",
      " 3   lat                     float64            \n",
      " 4   lon                     float64            \n",
      " 5   distance_from_shore_km  float64            \n",
      " 6   speed_knots             float64            \n",
      " 7   course_degrees          float64            \n",
      " 8   elevation_m             float64            \n",
      "dtypes: datetime64[ns, UTC](1), float64(6), int64(1), object(1)\n",
      "memory usage: 877.8+ MB\n"
     ]
    }
   ],
   "source": [
    "test.info()"
   ]
  }
 ],
 "metadata": {
  "kernelspec": {
   "display_name": "radenv",
   "language": "python",
   "name": "python3"
  },
  "language_info": {
   "codemirror_mode": {
    "name": "ipython",
    "version": 3
   },
   "file_extension": ".py",
   "mimetype": "text/x-python",
   "name": "python",
   "nbconvert_exporter": "python",
   "pygments_lexer": "ipython3",
   "version": "3.11.6"
  }
 },
 "nbformat": 4,
 "nbformat_minor": 2
}
